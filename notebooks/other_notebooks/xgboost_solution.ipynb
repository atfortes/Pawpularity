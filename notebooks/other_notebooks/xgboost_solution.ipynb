{
 "cells": [
  {
   "cell_type": "code",
   "execution_count": 1,
   "id": "3cd9db20",
   "metadata": {
    "execution": {
     "iopub.execute_input": "2022-01-05T13:58:10.421553Z",
     "iopub.status.busy": "2022-01-05T13:58:10.420059Z",
     "iopub.status.idle": "2022-01-05T13:58:11.365652Z",
     "shell.execute_reply": "2022-01-05T13:58:11.364993Z",
     "shell.execute_reply.started": "2022-01-05T13:56:51.460261Z"
    },
    "papermill": {
     "duration": 0.962839,
     "end_time": "2022-01-05T13:58:11.365817",
     "exception": false,
     "start_time": "2022-01-05T13:58:10.402978",
     "status": "completed"
    },
    "tags": []
   },
   "outputs": [],
   "source": [
    "from sklearn.model_selection import train_test_split\n",
    "from sklearn.model_selection import StratifiedKFold\n",
    "from sklearn.metrics import mean_squared_error\n",
    "from sklearn.decomposition import PCA\n",
    "from xgboost import XGBRegressor\n",
    "from matplotlib import pyplot as plt\n",
    "import pandas as pd\n",
    "import numpy as np"
   ]
  },
  {
   "cell_type": "markdown",
   "id": "8c60f838",
   "metadata": {
    "papermill": {
     "duration": 0.01359,
     "end_time": "2022-01-05T13:58:11.395308",
     "exception": false,
     "start_time": "2022-01-05T13:58:11.381718",
     "status": "completed"
    },
    "tags": []
   },
   "source": [
    "### Constants"
   ]
  },
  {
   "cell_type": "code",
   "execution_count": 2,
   "id": "74f214c9",
   "metadata": {
    "execution": {
     "iopub.execute_input": "2022-01-05T13:58:11.423826Z",
     "iopub.status.busy": "2022-01-05T13:58:11.421691Z",
     "iopub.status.idle": "2022-01-05T13:58:11.426257Z",
     "shell.execute_reply": "2022-01-05T13:58:11.425833Z",
     "shell.execute_reply.started": "2022-01-05T13:56:51.919143Z"
    },
    "papermill": {
     "duration": 0.018844,
     "end_time": "2022-01-05T13:58:11.426371",
     "exception": false,
     "start_time": "2022-01-05T13:58:11.407527",
     "status": "completed"
    },
    "tags": []
   },
   "outputs": [],
   "source": [
    "N_FOLDS = 10\n",
    "SEED = 999\n",
    "\n",
    "dataset_path = '../input/petfinder-pawpularity-score/'"
   ]
  },
  {
   "cell_type": "code",
   "execution_count": 3,
   "id": "6cfcdf95",
   "metadata": {
    "execution": {
     "iopub.execute_input": "2022-01-05T13:58:11.454873Z",
     "iopub.status.busy": "2022-01-05T13:58:11.454373Z",
     "iopub.status.idle": "2022-01-05T13:58:11.512043Z",
     "shell.execute_reply": "2022-01-05T13:58:11.511626Z",
     "shell.execute_reply.started": "2022-01-05T13:56:51.925093Z"
    },
    "papermill": {
     "duration": 0.073695,
     "end_time": "2022-01-05T13:58:11.512176",
     "exception": false,
     "start_time": "2022-01-05T13:58:11.438481",
     "status": "completed"
    },
    "tags": []
   },
   "outputs": [
    {
     "data": {
      "text/html": [
       "<div>\n",
       "<style scoped>\n",
       "    .dataframe tbody tr th:only-of-type {\n",
       "        vertical-align: middle;\n",
       "    }\n",
       "\n",
       "    .dataframe tbody tr th {\n",
       "        vertical-align: top;\n",
       "    }\n",
       "\n",
       "    .dataframe thead th {\n",
       "        text-align: right;\n",
       "    }\n",
       "</style>\n",
       "<table border=\"1\" class=\"dataframe\">\n",
       "  <thead>\n",
       "    <tr style=\"text-align: right;\">\n",
       "      <th></th>\n",
       "      <th>Id</th>\n",
       "      <th>Subject Focus</th>\n",
       "      <th>Eyes</th>\n",
       "      <th>Face</th>\n",
       "      <th>Near</th>\n",
       "      <th>Action</th>\n",
       "      <th>Accessory</th>\n",
       "      <th>Group</th>\n",
       "      <th>Collage</th>\n",
       "      <th>Human</th>\n",
       "      <th>Occlusion</th>\n",
       "      <th>Info</th>\n",
       "      <th>Blur</th>\n",
       "      <th>Pawpularity</th>\n",
       "    </tr>\n",
       "  </thead>\n",
       "  <tbody>\n",
       "    <tr>\n",
       "      <th>0</th>\n",
       "      <td>723a21d091e9f5c50f6399ebbd15415e</td>\n",
       "      <td>0</td>\n",
       "      <td>1</td>\n",
       "      <td>1</td>\n",
       "      <td>1</td>\n",
       "      <td>0</td>\n",
       "      <td>0</td>\n",
       "      <td>0</td>\n",
       "      <td>0</td>\n",
       "      <td>0</td>\n",
       "      <td>0</td>\n",
       "      <td>0</td>\n",
       "      <td>0</td>\n",
       "      <td>27</td>\n",
       "    </tr>\n",
       "    <tr>\n",
       "      <th>1</th>\n",
       "      <td>2d126a54855409d7b147e5d570f28f1c</td>\n",
       "      <td>0</td>\n",
       "      <td>0</td>\n",
       "      <td>0</td>\n",
       "      <td>0</td>\n",
       "      <td>0</td>\n",
       "      <td>0</td>\n",
       "      <td>1</td>\n",
       "      <td>0</td>\n",
       "      <td>0</td>\n",
       "      <td>0</td>\n",
       "      <td>0</td>\n",
       "      <td>0</td>\n",
       "      <td>26</td>\n",
       "    </tr>\n",
       "    <tr>\n",
       "      <th>2</th>\n",
       "      <td>3557b34de33d07a365e729dcad58d744</td>\n",
       "      <td>1</td>\n",
       "      <td>1</td>\n",
       "      <td>1</td>\n",
       "      <td>1</td>\n",
       "      <td>0</td>\n",
       "      <td>0</td>\n",
       "      <td>0</td>\n",
       "      <td>0</td>\n",
       "      <td>0</td>\n",
       "      <td>0</td>\n",
       "      <td>0</td>\n",
       "      <td>0</td>\n",
       "      <td>72</td>\n",
       "    </tr>\n",
       "    <tr>\n",
       "      <th>3</th>\n",
       "      <td>3a66d46585bdfb277e7b41ba9fe07c97</td>\n",
       "      <td>0</td>\n",
       "      <td>1</td>\n",
       "      <td>1</td>\n",
       "      <td>1</td>\n",
       "      <td>0</td>\n",
       "      <td>0</td>\n",
       "      <td>0</td>\n",
       "      <td>0</td>\n",
       "      <td>1</td>\n",
       "      <td>0</td>\n",
       "      <td>0</td>\n",
       "      <td>0</td>\n",
       "      <td>18</td>\n",
       "    </tr>\n",
       "    <tr>\n",
       "      <th>4</th>\n",
       "      <td>804a36e8abe417625194b7a37e2b33c7</td>\n",
       "      <td>0</td>\n",
       "      <td>1</td>\n",
       "      <td>1</td>\n",
       "      <td>1</td>\n",
       "      <td>0</td>\n",
       "      <td>1</td>\n",
       "      <td>0</td>\n",
       "      <td>0</td>\n",
       "      <td>0</td>\n",
       "      <td>0</td>\n",
       "      <td>0</td>\n",
       "      <td>0</td>\n",
       "      <td>32</td>\n",
       "    </tr>\n",
       "  </tbody>\n",
       "</table>\n",
       "</div>"
      ],
      "text/plain": [
       "                                 Id  Subject Focus  Eyes  Face  Near  Action  \\\n",
       "0  723a21d091e9f5c50f6399ebbd15415e              0     1     1     1       0   \n",
       "1  2d126a54855409d7b147e5d570f28f1c              0     0     0     0       0   \n",
       "2  3557b34de33d07a365e729dcad58d744              1     1     1     1       0   \n",
       "3  3a66d46585bdfb277e7b41ba9fe07c97              0     1     1     1       0   \n",
       "4  804a36e8abe417625194b7a37e2b33c7              0     1     1     1       0   \n",
       "\n",
       "   Accessory  Group  Collage  Human  Occlusion  Info  Blur  Pawpularity  \n",
       "0          0      0        0      0          0     0     0           27  \n",
       "1          0      1        0      0          0     0     0           26  \n",
       "2          0      0        0      0          0     0     0           72  \n",
       "3          0      0        0      1          0     0     0           18  \n",
       "4          1      0        0      0          0     0     0           32  "
      ]
     },
     "execution_count": 3,
     "metadata": {},
     "output_type": "execute_result"
    }
   ],
   "source": [
    "train_df = pd.read_csv(dataset_path + 'train.csv')\n",
    "train_df = train_df.sample(frac=1).reset_index(drop=True)\n",
    "train_df.head()"
   ]
  },
  {
   "cell_type": "code",
   "execution_count": 4,
   "id": "49a05fb0",
   "metadata": {
    "execution": {
     "iopub.execute_input": "2022-01-05T13:58:11.543264Z",
     "iopub.status.busy": "2022-01-05T13:58:11.542731Z",
     "iopub.status.idle": "2022-01-05T13:58:12.075241Z",
     "shell.execute_reply": "2022-01-05T13:58:12.075619Z",
     "shell.execute_reply.started": "2022-01-05T13:56:51.968236Z"
    },
    "papermill": {
     "duration": 0.550654,
     "end_time": "2022-01-05T13:58:12.075775",
     "exception": false,
     "start_time": "2022-01-05T13:58:11.525121",
     "status": "completed"
    },
    "tags": []
   },
   "outputs": [
    {
     "name": "stdout",
     "output_type": "stream",
     "text": [
      "9912 images\n",
      "Mean: 38.03904358353511\n",
      "Median: 33.0\n",
      "Standard deviation: 20.591990105774514\n"
     ]
    },
    {
     "data": {
      "image/png": "[encoded data removed]",
      "text/plain": [
       "<Figure size 720x360 with 1 Axes>"
      ]
     },
     "metadata": {
      "needs_background": "light"
     },
     "output_type": "display_data"
    }
   ],
   "source": [
    "print(f\"{len(train_df)} images\")\n",
    "train_df['Pawpularity'].hist(figsize = (10, 5), bins=100, grid=False)\n",
    "plt.axvline(train_df['Pawpularity'].mean(), color='k', linestyle='dashed', linewidth=1)\n",
    "min_ylim, max_ylim = plt.ylim()\n",
    "plt.text(train_df['Pawpularity'].mean()*1.1, max_ylim*0.9, 'Mean: {:.2f}'.format(train_df['Pawpularity'].mean()))\n",
    "print(f\"Mean: {train_df['Pawpularity'].mean()}\")\n",
    "print(f\"Median: {train_df['Pawpularity'].median()}\")\n",
    "print(f\"Standard deviation: {train_df['Pawpularity'].std()}\")"
   ]
  },
  {
   "cell_type": "code",
   "execution_count": 5,
   "id": "d946a157",
   "metadata": {
    "execution": {
     "iopub.execute_input": "2022-01-05T13:58:12.110677Z",
     "iopub.status.busy": "2022-01-05T13:58:12.106895Z",
     "iopub.status.idle": "2022-01-05T13:58:12.113432Z",
     "shell.execute_reply": "2022-01-05T13:58:12.113803Z",
     "shell.execute_reply.started": "2022-01-05T13:56:52.379067Z"
    },
    "papermill": {
     "duration": 0.0245,
     "end_time": "2022-01-05T13:58:12.113930",
     "exception": false,
     "start_time": "2022-01-05T13:58:12.089430",
     "status": "completed"
    },
    "tags": []
   },
   "outputs": [
    {
     "data": {
      "text/plain": [
       "0       0.27\n",
       "1       0.26\n",
       "2       0.72\n",
       "3       0.18\n",
       "4       0.32\n",
       "        ... \n",
       "9907    0.14\n",
       "9908    0.71\n",
       "9909    0.32\n",
       "9910    0.46\n",
       "9911    0.40\n",
       "Name: norm_score, Length: 9912, dtype: float64"
      ]
     },
     "execution_count": 5,
     "metadata": {},
     "output_type": "execute_result"
    }
   ],
   "source": [
    "train_df['norm_score'] = train_df['Pawpularity']/100\n",
    "train_df['norm_score']"
   ]
  },
  {
   "cell_type": "code",
   "execution_count": 6,
   "id": "df0a3237",
   "metadata": {
    "execution": {
     "iopub.execute_input": "2022-01-05T13:58:12.145719Z",
     "iopub.status.busy": "2022-01-05T13:58:12.144909Z",
     "iopub.status.idle": "2022-01-05T13:58:12.146878Z",
     "shell.execute_reply": "2022-01-05T13:58:12.147311Z",
     "shell.execute_reply.started": "2022-01-05T13:56:52.405157Z"
    },
    "papermill": {
     "duration": 0.019677,
     "end_time": "2022-01-05T13:58:12.147437",
     "exception": false,
     "start_time": "2022-01-05T13:58:12.127760",
     "status": "completed"
    },
    "tags": []
   },
   "outputs": [],
   "source": [
    "#Sturges' rule\n",
    "num_bins = int(np.floor(1+np.log2(len(train_df))))"
   ]
  },
  {
   "cell_type": "code",
   "execution_count": 7,
   "id": "4a7fe71c",
   "metadata": {
    "execution": {
     "iopub.execute_input": "2022-01-05T13:58:12.179315Z",
     "iopub.status.busy": "2022-01-05T13:58:12.178803Z",
     "iopub.status.idle": "2022-01-05T13:58:12.381777Z",
     "shell.execute_reply": "2022-01-05T13:58:12.382290Z",
     "shell.execute_reply.started": "2022-01-05T13:56:52.417669Z"
    },
    "papermill": {
     "duration": 0.221397,
     "end_time": "2022-01-05T13:58:12.382432",
     "exception": false,
     "start_time": "2022-01-05T13:58:12.161035",
     "status": "completed"
    },
    "tags": []
   },
   "outputs": [
    {
     "data": {
      "text/plain": [
       "<AxesSubplot:>"
      ]
     },
     "execution_count": 7,
     "metadata": {},
     "output_type": "execute_result"
    },
    {
     "data": {
      "image/png": "[encoded data removed]",
      "text/plain": [
       "<Figure size 432x288 with 1 Axes>"
      ]
     },
     "metadata": {
      "needs_background": "light"
     },
     "output_type": "display_data"
    }
   ],
   "source": [
    "q = pd.qcut(train_df['norm_score'], num_bins, retbins=True, labels=False)\n",
    "bin_limits = q[1]\n",
    "train_df['bins'] = q[0]\n",
    "train_df['bins'].hist(bins=num_bins)"
   ]
  },
  {
   "cell_type": "code",
   "execution_count": 8,
   "id": "eea75010",
   "metadata": {
    "execution": {
     "iopub.execute_input": "2022-01-05T13:58:12.418021Z",
     "iopub.status.busy": "2022-01-05T13:58:12.417491Z",
     "iopub.status.idle": "2022-01-05T13:58:12.426921Z",
     "shell.execute_reply": "2022-01-05T13:58:12.427319Z",
     "shell.execute_reply.started": "2022-01-05T13:56:52.730252Z"
    },
    "papermill": {
     "duration": 0.030146,
     "end_time": "2022-01-05T13:58:12.427447",
     "exception": false,
     "start_time": "2022-01-05T13:58:12.397301",
     "status": "completed"
    },
    "tags": []
   },
   "outputs": [],
   "source": [
    "train_df['fold'] = -1\n",
    "\n",
    "skf = StratifiedKFold(n_splits=N_FOLDS, random_state=SEED, shuffle=True)\n",
    "\n",
    "for i, (_, val_index) in enumerate(skf.split(train_df.index, train_df['bins'])):\n",
    "    train_df.iloc[val_index, -1] = i"
   ]
  },
  {
   "cell_type": "code",
   "execution_count": 9,
   "id": "2ab760f6",
   "metadata": {
    "execution": {
     "iopub.execute_input": "2022-01-05T13:58:12.460492Z",
     "iopub.status.busy": "2022-01-05T13:58:12.459993Z",
     "iopub.status.idle": "2022-01-05T13:58:12.470420Z",
     "shell.execute_reply": "2022-01-05T13:58:12.469963Z",
     "shell.execute_reply.started": "2022-01-05T13:56:52.754332Z"
    },
    "papermill": {
     "duration": 0.028614,
     "end_time": "2022-01-05T13:58:12.470528",
     "exception": false,
     "start_time": "2022-01-05T13:58:12.441914",
     "status": "completed"
    },
    "tags": []
   },
   "outputs": [],
   "source": [
    "test_df = pd.read_csv(dataset_path + 'test.csv')\n",
    "test_df['Pawpularity'] = [1]*len(test_df)\n",
    "test_df = test_df.drop(columns=['Id'])\n",
    "train_df['norm_score'] = train_df['Pawpularity']/100"
   ]
  },
  {
   "cell_type": "code",
   "execution_count": 10,
   "id": "9e79f717",
   "metadata": {
    "execution": {
     "iopub.execute_input": "2022-01-05T13:58:12.506816Z",
     "iopub.status.busy": "2022-01-05T13:58:12.506048Z",
     "iopub.status.idle": "2022-01-05T13:58:12.528764Z",
     "shell.execute_reply": "2022-01-05T13:58:12.528336Z",
     "shell.execute_reply.started": "2022-01-05T13:56:52.767632Z"
    },
    "papermill": {
     "duration": 0.042918,
     "end_time": "2022-01-05T13:58:12.528871",
     "exception": false,
     "start_time": "2022-01-05T13:58:12.485953",
     "status": "completed"
    },
    "tags": []
   },
   "outputs": [],
   "source": [
    "train_metadata_path = dataset_path + 'train.csv'\n",
    "test_metadata_path = dataset_path + 'test.csv'\n",
    "\n",
    "train_metadata = pd.read_csv(train_metadata_path).sort_values(by='Id')"
   ]
  },
  {
   "cell_type": "code",
   "execution_count": 11,
   "id": "a133bcac",
   "metadata": {
    "execution": {
     "iopub.execute_input": "2022-01-05T13:58:12.563743Z",
     "iopub.status.busy": "2022-01-05T13:58:12.562281Z",
     "iopub.status.idle": "2022-01-05T13:58:12.564384Z",
     "shell.execute_reply": "2022-01-05T13:58:12.564789Z",
     "shell.execute_reply.started": "2022-01-05T13:56:52.809129Z"
    },
    "papermill": {
     "duration": 0.021448,
     "end_time": "2022-01-05T13:58:12.564905",
     "exception": false,
     "start_time": "2022-01-05T13:58:12.543457",
     "status": "completed"
    },
    "tags": []
   },
   "outputs": [],
   "source": [
    "def split_fold(df, fold):\n",
    "    train = df.loc[df['Id'].isin(train_df[train_df['fold'] != fold]['Id'].values)]\n",
    "    val = df.loc[df['Id'].isin(train_df[train_df['fold'] == fold]['Id'].values)]\n",
    "    return train, val"
   ]
  },
  {
   "cell_type": "code",
   "execution_count": 12,
   "id": "c29d7e04",
   "metadata": {
    "execution": {
     "iopub.execute_input": "2022-01-05T13:58:12.598112Z",
     "iopub.status.busy": "2022-01-05T13:58:12.597279Z",
     "iopub.status.idle": "2022-01-05T13:58:12.602083Z",
     "shell.execute_reply": "2022-01-05T13:58:12.602488Z",
     "shell.execute_reply.started": "2022-01-05T13:56:52.817179Z"
    },
    "papermill": {
     "duration": 0.023271,
     "end_time": "2022-01-05T13:58:12.602611",
     "exception": false,
     "start_time": "2022-01-05T13:58:12.579340",
     "status": "completed"
    },
    "tags": []
   },
   "outputs": [],
   "source": [
    "test_metadata = pd.read_csv(test_metadata_path).sort_values(by='Id')\n",
    "X_test = test_metadata.iloc[:,2:]"
   ]
  },
  {
   "cell_type": "code",
   "execution_count": 13,
   "id": "8d77ae62",
   "metadata": {
    "execution": {
     "iopub.execute_input": "2022-01-05T13:58:12.647920Z",
     "iopub.status.busy": "2022-01-05T13:58:12.647138Z",
     "iopub.status.idle": "2022-01-05T13:58:12.654645Z",
     "shell.execute_reply": "2022-01-05T13:58:12.654215Z",
     "shell.execute_reply.started": "2022-01-05T13:56:52.835397Z"
    },
    "papermill": {
     "duration": 0.037687,
     "end_time": "2022-01-05T13:58:12.654754",
     "exception": false,
     "start_time": "2022-01-05T13:58:12.617067",
     "status": "completed"
    },
    "tags": []
   },
   "outputs": [],
   "source": [
    "pca = PCA(n_components=2)\n",
    "pca.fit(X_test)\n",
    "X_test = X_test.join(pd.DataFrame(pca.transform(X_test), index=X_test.index).add_prefix('pca_'))"
   ]
  },
  {
   "cell_type": "code",
   "execution_count": 14,
   "id": "8349d623",
   "metadata": {
    "execution": {
     "iopub.execute_input": "2022-01-05T13:58:12.693857Z",
     "iopub.status.busy": "2022-01-05T13:58:12.693339Z",
     "iopub.status.idle": "2022-01-05T13:58:28.243357Z",
     "shell.execute_reply": "2022-01-05T13:58:28.244453Z",
     "shell.execute_reply.started": "2022-01-05T13:56:52.849732Z"
    },
    "papermill": {
     "duration": 15.575233,
     "end_time": "2022-01-05T13:58:28.244673",
     "exception": false,
     "start_time": "2022-01-05T13:58:12.669440",
     "status": "completed"
    },
    "tags": []
   },
   "outputs": [
    {
     "name": "stdout",
     "output_type": "stream",
     "text": [
      "XGB - Training fold 0\n",
      "RMSE: 20.569260063094397\n",
      "\n",
      "XGB - Training fold 1\n",
      "RMSE: 20.80566135458192\n",
      "\n",
      "XGB - Training fold 2\n",
      "RMSE: 20.267794880114696\n",
      "\n",
      "XGB - Training fold 3\n",
      "RMSE: 20.556720567516408\n",
      "\n",
      "XGB - Training fold 4\n",
      "RMSE: 20.821383637080146\n",
      "\n",
      "XGB - Training fold 5\n",
      "RMSE: 20.342602933360034\n",
      "\n",
      "XGB - Training fold 6\n",
      "RMSE: 20.662200269751658\n",
      "\n",
      "XGB - Training fold 7\n",
      "RMSE: 20.81247219934727\n",
      "\n",
      "XGB - Training fold 8\n",
      "RMSE: 20.53371885152351\n",
      "\n",
      "XGB - Training fold 9\n",
      "RMSE: 20.933207651524043\n",
      "\n"
     ]
    }
   ],
   "source": [
    "preds = []\n",
    "val_preds = []\n",
    "\n",
    "for i in range(10):\n",
    "    print(f'XGB - Training fold {i}')\n",
    "\n",
    "    train, val = split_fold(train_metadata, i)\n",
    "\n",
    "    y_train_xgb = train['Pawpularity']\n",
    "    X_train_xgb = train.iloc[:,2:-1]\n",
    "\n",
    "    y_val_xgb = val['Pawpularity']\n",
    "    X_val_xgb = val.iloc[:,2:-1]\n",
    "\n",
    "    pca = PCA(n_components=2)\n",
    "    pca.fit(X_train_xgb)\n",
    "    X_train_xgb = X_train_xgb.join(pd.DataFrame(pca.transform(X_train_xgb), index=X_train_xgb.index).add_prefix('pca_'))\n",
    "\n",
    "    pca = PCA(n_components=2)\n",
    "    pca.fit(X_val_xgb)\n",
    "    X_val_xgb = X_val_xgb.join(pd.DataFrame(pca.transform(X_val_xgb), index=X_val_xgb.index).add_prefix('pca_'))\n",
    "\n",
    "    params = {\n",
    "        'max_depth': 3,\n",
    "        'n_estimators': 400,\n",
    "        'min_child_weight': 2,\n",
    "        'colsample_bytree': 0.5696,\n",
    "        'subsample': 0.5389,\n",
    "        'eta': 0.3116,\n",
    "        'objective': 'reg:squarederror',\n",
    "        'seed': SEED\n",
    "    }\n",
    "\n",
    "    model = XGBRegressor(**params, n_jobs=-1)\n",
    "\n",
    "    fit_params = {\n",
    "        'eval_metric': 'rmse',\n",
    "        'eval_set': [(X_train_xgb, y_train_xgb), (X_val_xgb, y_val_xgb)],\n",
    "        'early_stopping_rounds': 400,\n",
    "        'verbose': False\n",
    "    }\n",
    "\n",
    "    model.fit(X_train_xgb, y_train_xgb, **fit_params)\n",
    "    preds.append(model.predict(X_test))\n",
    "    print(f'RMSE: {np.sqrt(mean_squared_error(model.predict(X_val_xgb), y_val_xgb))}\\n')\n",
    "\n",
    "xgb_preds = np.mean(np.stack(preds), axis=0)"
   ]
  },
  {
   "cell_type": "code",
   "execution_count": 15,
   "id": "749c09ed",
   "metadata": {
    "execution": {
     "iopub.execute_input": "2022-01-05T13:58:28.289034Z",
     "iopub.status.busy": "2022-01-05T13:58:28.288454Z",
     "iopub.status.idle": "2022-01-05T13:58:28.298919Z",
     "shell.execute_reply": "2022-01-05T13:58:28.298520Z",
     "shell.execute_reply.started": "2022-01-05T13:57:07.148212Z"
    },
    "papermill": {
     "duration": 0.03445,
     "end_time": "2022-01-05T13:58:28.299026",
     "exception": false,
     "start_time": "2022-01-05T13:58:28.264576",
     "status": "completed"
    },
    "tags": []
   },
   "outputs": [
    {
     "data": {
      "text/html": [
       "<div>\n",
       "<style scoped>\n",
       "    .dataframe tbody tr th:only-of-type {\n",
       "        vertical-align: middle;\n",
       "    }\n",
       "\n",
       "    .dataframe tbody tr th {\n",
       "        vertical-align: top;\n",
       "    }\n",
       "\n",
       "    .dataframe thead th {\n",
       "        text-align: right;\n",
       "    }\n",
       "</style>\n",
       "<table border=\"1\" class=\"dataframe\">\n",
       "  <thead>\n",
       "    <tr style=\"text-align: right;\">\n",
       "      <th></th>\n",
       "      <th>Id</th>\n",
       "      <th>Pawpularity</th>\n",
       "    </tr>\n",
       "  </thead>\n",
       "  <tbody>\n",
       "    <tr>\n",
       "      <th>0</th>\n",
       "      <td>4128bae22183829d2b5fea10effdb0c3</td>\n",
       "      <td>37.474216</td>\n",
       "    </tr>\n",
       "    <tr>\n",
       "      <th>1</th>\n",
       "      <td>43a2262d7738e3d420d453815151079e</td>\n",
       "      <td>38.399929</td>\n",
       "    </tr>\n",
       "    <tr>\n",
       "      <th>2</th>\n",
       "      <td>4e429cead1848a298432a0acad014c9d</td>\n",
       "      <td>43.118835</td>\n",
       "    </tr>\n",
       "    <tr>\n",
       "      <th>3</th>\n",
       "      <td>80bc3ccafcc51b66303c2c263aa38486</td>\n",
       "      <td>36.807972</td>\n",
       "    </tr>\n",
       "    <tr>\n",
       "      <th>4</th>\n",
       "      <td>8f49844c382931444e68dffbe20228f4</td>\n",
       "      <td>34.878101</td>\n",
       "    </tr>\n",
       "    <tr>\n",
       "      <th>5</th>\n",
       "      <td>b03f7041962238a7c9d6537e22f9b017</td>\n",
       "      <td>41.095741</td>\n",
       "    </tr>\n",
       "    <tr>\n",
       "      <th>6</th>\n",
       "      <td>c978013571258ed6d4637f6e8cc9d6a3</td>\n",
       "      <td>36.054890</td>\n",
       "    </tr>\n",
       "    <tr>\n",
       "      <th>7</th>\n",
       "      <td>e0de453c1bffc20c22b072b34b54e50f</td>\n",
       "      <td>37.921703</td>\n",
       "    </tr>\n",
       "  </tbody>\n",
       "</table>\n",
       "</div>"
      ],
      "text/plain": [
       "                                 Id  Pawpularity\n",
       "0  4128bae22183829d2b5fea10effdb0c3    37.474216\n",
       "1  43a2262d7738e3d420d453815151079e    38.399929\n",
       "2  4e429cead1848a298432a0acad014c9d    43.118835\n",
       "3  80bc3ccafcc51b66303c2c263aa38486    36.807972\n",
       "4  8f49844c382931444e68dffbe20228f4    34.878101\n",
       "5  b03f7041962238a7c9d6537e22f9b017    41.095741\n",
       "6  c978013571258ed6d4637f6e8cc9d6a3    36.054890\n",
       "7  e0de453c1bffc20c22b072b34b54e50f    37.921703"
      ]
     },
     "execution_count": 15,
     "metadata": {},
     "output_type": "execute_result"
    }
   ],
   "source": [
    "test_predictions = pd.DataFrame()\n",
    "test_predictions['Id'] = test_metadata.Id\n",
    "test_predictions['Pawpularity'] = xgb_preds\n",
    "test_predictions.to_csv('submission.csv', index=False)\n",
    "test_predictions.head(8)"
   ]
  },
  {
   "cell_type": "code",
   "execution_count": null,
   "id": "01720951",
   "metadata": {
    "papermill": {
     "duration": 0.018956,
     "end_time": "2022-01-05T13:58:28.336324",
     "exception": false,
     "start_time": "2022-01-05T13:58:28.317368",
     "status": "completed"
    },
    "tags": []
   },
   "outputs": [],
   "source": []
  },
  {
   "cell_type": "code",
   "execution_count": null,
   "id": "d9717306",
   "metadata": {
    "papermill": {
     "duration": 0.01775,
     "end_time": "2022-01-05T13:58:28.371766",
     "exception": false,
     "start_time": "2022-01-05T13:58:28.354016",
     "status": "completed"
    },
    "tags": []
   },
   "outputs": [],
   "source": []
  }
 ],
 "metadata": {
  "kernelspec": {
   "display_name": "Python 3",
   "language": "python",
   "name": "python3"
  },
  "language_info": {
   "codemirror_mode": {
    "name": "ipython",
    "version": 3
   },
   "file_extension": ".py",
   "mimetype": "text/x-python",
   "name": "python",
   "nbconvert_exporter": "python",
   "pygments_lexer": "ipython3",
   "version": "3.7.12"
  },
  "papermill": {
   "default_parameters": {},
   "duration": 26.972592,
   "end_time": "2022-01-05T13:58:29.499384",
   "environment_variables": {},
   "exception": null,
   "input_path": "__notebook__.ipynb",
   "output_path": "__notebook__.ipynb",
   "parameters": {},
   "start_time": "2022-01-05T13:58:02.526792",
   "version": "2.3.3"
  }
 },
 "nbformat": 4,
 "nbformat_minor": 5
}
